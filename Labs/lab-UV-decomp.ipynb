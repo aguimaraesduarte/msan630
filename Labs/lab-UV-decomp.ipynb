{
 "cells": [
  {
   "cell_type": "markdown",
   "metadata": {},
   "source": [
    "\n",
    "# **Lab 1: Recommendation System and Matrix Factorization**\n",
    " \n",
    "\n",
    "####  Write code to fit a UV decomposition for the Netflix competition "
   ]
  },
  {
   "cell_type": "code",
   "execution_count": 36,
   "metadata": {
    "collapsed": true
   },
   "outputs": [],
   "source": [
    "import numpy as np"
   ]
  },
  {
   "cell_type": "code",
   "execution_count": 37,
   "metadata": {
    "collapsed": false
   },
   "outputs": [
    {
     "name": "stdout",
     "output_type": "stream",
     "text": [
      "[[5 1 4 5 1]\n",
      " [0 5 2 1 4]\n",
      " [1 4 1 1 2]\n",
      " [4 1 5 5 4]\n",
      " [5 3 3 5 4]\n",
      " [1 5 1 0 1]\n",
      " [5 1 5 5 4]]\n"
     ]
    }
   ],
   "source": [
    "# Use the following matrix as an example. Here 0's means \"empty\"\n",
    "Y = np.array([[5, 1, 4, 5, 1], [0, 5, 2, 1, 4], [1, 4, 1, 1, 2],\\\n",
    "              [4, 1, 5, 5, 4], [5, 3, 3, 5, 4], [1, 5, 1, 0, 1], \\\n",
    "              [5, 1, 5, 5, 4]])\n",
    "print(Y)"
   ]
  },
  {
   "cell_type": "code",
   "execution_count": 38,
   "metadata": {
    "collapsed": false
   },
   "outputs": [
    {
     "name": "stdout",
     "output_type": "stream",
     "text": [
      "[[ 0.18203286  0.32094623]\n",
      " [ 0.86717535  0.19716813]\n",
      " [ 0.75787096  0.65821282]\n",
      " [ 0.32810797  0.76469917]\n",
      " [ 0.64212889  0.67015957]\n",
      " [ 0.4888564   0.35910549]\n",
      " [ 0.11749311  0.50660816]]\n",
      "[[ 0.56293223  0.76718513]\n",
      " [ 0.01539567  0.48334356]\n",
      " [ 0.56352884  0.20793107]\n",
      " [ 0.46278888  0.66128435]\n",
      " [ 0.43809051  0.30590566]]\n"
     ]
    }
   ],
   "source": [
    "n = 7\n",
    "m = 5\n",
    "k = 2\n",
    "U = np.reshape(np.random.uniform(0, 1, size= n*k), (n, k))\n",
    "print(U)\n",
    "V = np.reshape(np.random.uniform(0, 1, size= m*k), (m, k))\n",
    "print(V)"
   ]
  },
  {
   "cell_type": "code",
   "execution_count": 39,
   "metadata": {
    "collapsed": false
   },
   "outputs": [
    {
     "name": "stdout",
     "output_type": "stream",
     "text": [
      "33\n",
      "[[ 1.  1.  1.  1.  1.]\n",
      " [ 1.  1.  1.  1.  1.]\n",
      " [ 1.  1.  1.  1.  1.]\n",
      " [ 1.  1.  1.  1.  1.]\n",
      " [ 1.  1.  1.  1.  1.]\n",
      " [ 1.  1.  1.  1.  1.]\n",
      " [ 1.  1.  1.  1.  1.]]\n",
      "[[ 1.  1.  1.  1.  1.]\n",
      " [ 0.  1.  1.  1.  1.]\n",
      " [ 1.  1.  1.  1.  1.]\n",
      " [ 1.  1.  1.  1.  1.]\n",
      " [ 1.  1.  1.  1.  1.]\n",
      " [ 1.  1.  1.  0.  1.]\n",
      " [ 1.  1.  1.  1.  1.]]\n"
     ]
    }
   ],
   "source": [
    "N = np.sum(Y > 0)\n",
    "print(N)\n",
    "R = np.ones((n, m))\n",
    "print R\n",
    "R[Y == 0] = 0\n",
    "print R"
   ]
  },
  {
   "cell_type": "code",
   "execution_count": 41,
   "metadata": {
    "collapsed": false
   },
   "outputs": [
    {
     "name": "stdout",
     "output_type": "stream",
     "text": [
      "1.85374720213\n",
      "1.78675757857\n",
      "1.71355821807\n",
      "1.61946700434\n",
      "1.4974219186\n",
      "1.34529430474\n",
      "1.16799165613\n",
      "0.97894893469\n",
      "0.797724223156\n",
      "0.643074539593\n",
      "0.525561587675\n",
      "0.445131154782\n",
      "0.394497919933\n",
      "0.364383961343\n",
      "0.346968780491\n",
      "0.336903771377\n",
      "0.330955271083\n",
      "0.32730207966\n",
      "0.324952530417\n",
      "0.32336967342\n",
      "0.322258087193\n",
      "0.321449997107\n",
      "0.320846089811\n",
      "0.320384860228\n",
      "0.320026508643\n",
      "0.319744246327\n",
      "0.319519426981\n",
      "0.319338705812\n",
      "0.319192310925\n",
      "0.319072949384\n",
      "0.318975090426\n",
      "0.318894481673\n",
      "0.318827814365\n",
      "0.318772486812\n",
      "0.31872643425\n",
      "0.318688004527\n",
      "0.318655866006\n",
      "0.31862893848\n",
      "0.318606340728\n",
      "0.318587350285\n",
      "0.318571372255\n",
      "0.31855791493\n",
      "0.318546570536\n",
      "0.318536999937\n",
      "0.31852892037\n",
      "0.318522095566\n",
      "0.31851632773\n",
      "0.318511451002\n",
      "0.318507326109\n",
      "0.318503835953\n"
     ]
    }
   ],
   "source": [
    "for i in range(5000):\n",
    "    aa = 0.01/N\n",
    "    AA = aa*(Y - np.dot(U, V.T))*R\n",
    "    U = U + np.dot(AA, V)\n",
    "    V = V + np.dot(AA.T, U)\n",
    "    Err = np.sum((Y - np.dot(U, V.T)*R)**2)/N\n",
    "    if i % 100 == 0:\n",
    "        print(Err)\n"
   ]
  },
  {
   "cell_type": "code",
   "execution_count": 31,
   "metadata": {
    "collapsed": false
   },
   "outputs": [
    {
     "name": "stdout",
     "output_type": "stream",
     "text": [
      "[[ 4.30191576  0.35240525  3.95525978  4.73911285  2.71204783]\n",
      " [ 2.35115611  5.35202242  1.94584388  1.44494651  3.25602731]\n",
      " [ 1.3139206   3.8740079   1.05047077  0.61149051  2.1232001 ]\n",
      " [ 4.82117501  1.23305644  4.39761246  5.12512077  3.32754454]\n",
      " [ 4.61795722  3.00253114  4.13604528  4.50481332  3.81349365]\n",
      " [ 0.78968777  4.61480196  0.53569271 -0.13997315  2.06215592]\n",
      " [ 5.10994408  1.25290487  4.66327127  5.44408198  3.50828378]]\n",
      "[[5 1 4 5 1]\n",
      " [0 5 2 1 4]\n",
      " [1 4 1 1 2]\n",
      " [4 1 5 5 4]\n",
      " [5 3 3 5 4]\n",
      " [1 5 1 0 1]\n",
      " [5 1 5 5 4]]\n"
     ]
    }
   ],
   "source": [
    "print np.dot(U, V.T)\n",
    "print Y"
   ]
  },
  {
   "cell_type": "code",
   "execution_count": 32,
   "metadata": {
    "collapsed": false
   },
   "outputs": [
    {
     "data": {
      "text/plain": [
       "array([[ 0.4534478 ,  1.88564936],\n",
       "       [ 2.04935678,  0.07832051],\n",
       "       [ 1.45361168, -0.11921889],\n",
       "       [ 0.80082787,  1.9585672 ],\n",
       "       [ 1.40307328,  1.53983273],\n",
       "       [ 1.67201473, -0.49365664],\n",
       "       [ 0.82993656,  2.08584537]])"
      ]
     },
     "execution_count": 32,
     "metadata": {},
     "output_type": "execute_result"
    }
   ],
   "source": [
    "U"
   ]
  },
  {
   "cell_type": "code",
   "execution_count": 33,
   "metadata": {
    "collapsed": false
   },
   "outputs": [
    {
     "data": {
      "text/plain": [
       "array([[ 1.06990962,  2.02411312],\n",
       "       [ 2.62857684, -0.44521381],\n",
       "       [ 0.8773908 ,  1.88656965],\n",
       "       [ 0.61467287,  2.3654402 ],\n",
       "       [ 1.5480655 ,  1.06598872]])"
      ]
     },
     "execution_count": 33,
     "metadata": {},
     "output_type": "execute_result"
    }
   ],
   "source": [
    "V"
   ]
  },
  {
   "cell_type": "code",
   "execution_count": null,
   "metadata": {
    "collapsed": true
   },
   "outputs": [],
   "source": []
  }
 ],
 "metadata": {
  "kernelspec": {
   "display_name": "Python 2",
   "language": "python",
   "name": "python2"
  },
  "language_info": {
   "codemirror_mode": {
    "name": "ipython",
    "version": 2
   },
   "file_extension": ".py",
   "mimetype": "text/x-python",
   "name": "python",
   "nbconvert_exporter": "python",
   "pygments_lexer": "ipython2",
   "version": "2.7.11"
  },
  "name": "ML_lab1_review_student",
  "notebookId": 4025
 },
 "nbformat": 4,
 "nbformat_minor": 0
}
