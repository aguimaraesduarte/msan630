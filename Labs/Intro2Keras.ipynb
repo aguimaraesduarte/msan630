{
 "cells": [
  {
   "cell_type": "markdown",
   "metadata": {},
   "source": [
    "# Into to Keras"
   ]
  },
  {
   "cell_type": "markdown",
   "metadata": {},
   "source": [
    "based on http://machinelearningmastery.com/tutorial-first-neural-network-python-keras/"
   ]
  },
  {
   "cell_type": "markdown",
   "metadata": {},
   "source": [
    "## Load Data"
   ]
  },
  {
   "cell_type": "code",
   "execution_count": 1,
   "metadata": {
    "collapsed": false
   },
   "outputs": [
    {
     "name": "stderr",
     "output_type": "stream",
     "text": [
      "Using Theano backend.\n"
     ]
    }
   ],
   "source": [
    "from keras.models import Sequential\n",
    "from keras.layers import Dense\n",
    "import numpy as np\n",
    "seed = 23\n",
    "np.random.seed(seed)"
   ]
  },
  {
   "cell_type": "markdown",
   "metadata": {},
   "source": [
    "Let's get some data on wine quality\n",
    "wget http://archive.ics.uci.edu/ml/machine-learning-databases/wine-quality/winequality-white.csv"
   ]
  },
  {
   "cell_type": "code",
   "execution_count": 2,
   "metadata": {
    "collapsed": false
   },
   "outputs": [
    {
     "name": "stdout",
     "output_type": "stream",
     "text": [
      "(4898, 12)\n"
     ]
    },
    {
     "data": {
      "text/plain": [
       "6.0"
      ]
     },
     "execution_count": 2,
     "metadata": {},
     "output_type": "execute_result"
    }
   ],
   "source": [
    "# load wine quality dataset\n",
    "dataset = np.loadtxt(\"winequality-white.csv\", delimiter=\";\", skiprows=1)\n",
    "N, K = dataset.shape\n",
    "print(N, K)\n",
    "dataset[0,11]"
   ]
  },
  {
   "cell_type": "code",
   "execution_count": 3,
   "metadata": {
    "collapsed": false
   },
   "outputs": [],
   "source": [
    "# split into input (X) and output (Y) variables\n",
    "X = dataset[:,0:K-1]\n",
    "Y = dataset[:,K-1]"
   ]
  },
  {
   "cell_type": "code",
   "execution_count": 4,
   "metadata": {
    "collapsed": false
   },
   "outputs": [
    {
     "name": "stdout",
     "output_type": "stream",
     "text": [
      "12\n"
     ]
    },
    {
     "data": {
      "text/plain": [
       "array([  7.00000000e+00,   2.70000000e-01,   3.60000000e-01,\n",
       "         2.07000000e+01,   4.50000000e-02,   4.50000000e+01,\n",
       "         1.70000000e+02,   1.00100000e+00,   3.00000000e+00,\n",
       "         4.50000000e-01,   8.80000000e+00])"
      ]
     },
     "execution_count": 4,
     "metadata": {},
     "output_type": "execute_result"
    }
   ],
   "source": [
    "print(len(dataset[0]))\n",
    "X[0]"
   ]
  },
  {
   "cell_type": "code",
   "execution_count": 5,
   "metadata": {
    "collapsed": false
   },
   "outputs": [],
   "source": [
    "import pandas\n",
    "df = pandas.DataFrame(Y, columns=[\"y\"])\n",
    "df['y'] = df['y'].astype('category')"
   ]
  },
  {
   "cell_type": "code",
   "execution_count": 6,
   "metadata": {
    "collapsed": false
   },
   "outputs": [
    {
     "data": {
      "text/html": [
       "<div>\n",
       "<table border=\"1\" class=\"dataframe\">\n",
       "  <thead>\n",
       "    <tr style=\"text-align: right;\">\n",
       "      <th></th>\n",
       "      <th>y</th>\n",
       "    </tr>\n",
       "  </thead>\n",
       "  <tbody>\n",
       "    <tr>\n",
       "      <th>count</th>\n",
       "      <td>4898.0</td>\n",
       "    </tr>\n",
       "    <tr>\n",
       "      <th>unique</th>\n",
       "      <td>7.0</td>\n",
       "    </tr>\n",
       "    <tr>\n",
       "      <th>top</th>\n",
       "      <td>6.0</td>\n",
       "    </tr>\n",
       "    <tr>\n",
       "      <th>freq</th>\n",
       "      <td>2198.0</td>\n",
       "    </tr>\n",
       "  </tbody>\n",
       "</table>\n",
       "</div>"
      ],
      "text/plain": [
       "             y\n",
       "count   4898.0\n",
       "unique     7.0\n",
       "top        6.0\n",
       "freq    2198.0"
      ]
     },
     "execution_count": 6,
     "metadata": {},
     "output_type": "execute_result"
    }
   ],
   "source": [
    "df.describe()"
   ]
  },
  {
   "cell_type": "code",
   "execution_count": 7,
   "metadata": {
    "collapsed": false
   },
   "outputs": [
    {
     "name": "stdout",
     "output_type": "stream",
     "text": [
      "[0, 0, 0, 0, 0, 0, 0, 0, 0, 0, 0, 0, 0, 1, 0, 1, 0, 1, 0, 0]\n"
     ]
    },
    {
     "data": {
      "text/html": [
       "<div>\n",
       "<table border=\"1\" class=\"dataframe\">\n",
       "  <thead>\n",
       "    <tr style=\"text-align: right;\">\n",
       "      <th></th>\n",
       "      <th>y</th>\n",
       "    </tr>\n",
       "  </thead>\n",
       "  <tbody>\n",
       "    <tr>\n",
       "      <th>count</th>\n",
       "      <td>4898.000000</td>\n",
       "    </tr>\n",
       "    <tr>\n",
       "      <th>mean</th>\n",
       "      <td>0.216415</td>\n",
       "    </tr>\n",
       "    <tr>\n",
       "      <th>std</th>\n",
       "      <td>0.411842</td>\n",
       "    </tr>\n",
       "    <tr>\n",
       "      <th>min</th>\n",
       "      <td>0.000000</td>\n",
       "    </tr>\n",
       "    <tr>\n",
       "      <th>25%</th>\n",
       "      <td>0.000000</td>\n",
       "    </tr>\n",
       "    <tr>\n",
       "      <th>50%</th>\n",
       "      <td>0.000000</td>\n",
       "    </tr>\n",
       "    <tr>\n",
       "      <th>75%</th>\n",
       "      <td>0.000000</td>\n",
       "    </tr>\n",
       "    <tr>\n",
       "      <th>max</th>\n",
       "      <td>1.000000</td>\n",
       "    </tr>\n",
       "  </tbody>\n",
       "</table>\n",
       "</div>"
      ],
      "text/plain": [
       "                 y\n",
       "count  4898.000000\n",
       "mean      0.216415\n",
       "std       0.411842\n",
       "min       0.000000\n",
       "25%       0.000000\n",
       "50%       0.000000\n",
       "75%       0.000000\n",
       "max       1.000000"
      ]
     },
     "execution_count": 7,
     "metadata": {},
     "output_type": "execute_result"
    }
   ],
   "source": [
    "#Let's simplify this problem for a moment \n",
    "Y2 = [0 if y <= 6 else 1 for y in Y]\n",
    "print(Y2[0:20])\n",
    "df2 = pandas.DataFrame(Y2, columns=[\"y\"])\n",
    "df2.describe()"
   ]
  },
  {
   "cell_type": "markdown",
   "metadata": {},
   "source": [
    "## Define and Compite the Model"
   ]
  },
  {
   "cell_type": "markdown",
   "metadata": {},
   "source": [
    "Many models in Keras are defined as a sequence of layers. Let's create a logistic regression model. Here input_dim is the dimension of your data. init='uniform' tells Keras to initialize the weights with a uniform distribution (in this case from numbers from 0 to 0.05). "
   ]
  },
  {
   "cell_type": "code",
   "execution_count": 8,
   "metadata": {
    "collapsed": true
   },
   "outputs": [],
   "source": [
    "# create model\n",
    "model = Sequential()\n",
    "model.add(Dense(1, input_dim=K-1, init='uniform', activation='sigmoid'))"
   ]
  },
  {
   "cell_type": "code",
   "execution_count": 9,
   "metadata": {
    "collapsed": false
   },
   "outputs": [
    {
     "name": "stdout",
     "output_type": "stream",
     "text": [
      "____________________________________________________________________________________________________\n",
      "Layer (type)                     Output Shape          Param #     Connected to                     \n",
      "====================================================================================================\n",
      "dense_1 (Dense)                  (None, 1)             12          dense_input_1[0][0]              \n",
      "====================================================================================================\n",
      "Total params: 12\n",
      "____________________________________________________________________________________________________\n"
     ]
    }
   ],
   "source": [
    "model.summary()"
   ]
  },
  {
   "cell_type": "markdown",
   "metadata": {},
   "source": [
    "For compiling the model we should specify the loss function, the gradient descent algorithm. We can also add metrics such as the 'accuracy' to collect and report."
   ]
  },
  {
   "cell_type": "code",
   "execution_count": 10,
   "metadata": {
    "collapsed": true
   },
   "outputs": [],
   "source": [
    "# Compile model\n",
    "model.compile(loss=\"binary_crossentropy\", optimizer=\"adam\", metrics=[\"accuracy\"])"
   ]
  },
  {
   "cell_type": "markdown",
   "metadata": {},
   "source": [
    "## Fit and Evaluate the Model "
   ]
  },
  {
   "cell_type": "markdown",
   "metadata": {},
   "source": [
    "**nb_epoch** is the number of iteration performed over the data\n",
    "\n",
    "**batch_size** is the number of instances that are evaluated before a weight update."
   ]
  },
  {
   "cell_type": "code",
   "execution_count": 11,
   "metadata": {
    "collapsed": false
   },
   "outputs": [],
   "source": [
    "# model.fit(X, Y2, nb_epoch=150, batch_size=50)"
   ]
  },
  {
   "cell_type": "code",
   "execution_count": 12,
   "metadata": {
    "collapsed": true
   },
   "outputs": [],
   "source": [
    "# let's keep part of our data as validation\n",
    "np.random.shuffle(dataset)"
   ]
  },
  {
   "cell_type": "code",
   "execution_count": 13,
   "metadata": {
    "collapsed": false
   },
   "outputs": [],
   "source": [
    "dataset_valid = dataset[:500,:]\n",
    "dataset_test = dataset[500:1000,:]\n",
    "dataset_train = dataset[1000:,:]"
   ]
  },
  {
   "cell_type": "code",
   "execution_count": 14,
   "metadata": {
    "collapsed": false
   },
   "outputs": [
    {
     "data": {
      "text/plain": [
       "(500, 12)"
      ]
     },
     "execution_count": 14,
     "metadata": {},
     "output_type": "execute_result"
    }
   ],
   "source": [
    "dataset_valid.shape"
   ]
  },
  {
   "cell_type": "code",
   "execution_count": 15,
   "metadata": {
    "collapsed": true
   },
   "outputs": [],
   "source": [
    "def get_X_Y(dataset):\n",
    "    X = dataset[:,0:K-1]\n",
    "    Y = dataset[:,K-1]\n",
    "    Y2 = [0 if y <= 6 else 1 for y in Y]\n",
    "    return X, Y2"
   ]
  },
  {
   "cell_type": "code",
   "execution_count": 16,
   "metadata": {
    "collapsed": true
   },
   "outputs": [],
   "source": [
    "X_train, Y_train = get_X_Y(dataset_train)\n",
    "X_valid, Y_valid = get_X_Y(dataset_valid)\n",
    "X_test, Y_test = get_X_Y(dataset_test)"
   ]
  },
  {
   "cell_type": "code",
   "execution_count": 17,
   "metadata": {
    "collapsed": true
   },
   "outputs": [],
   "source": [
    "# scaling data\n",
    "# It is recommended to scale inputs\n",
    "from sklearn import preprocessing\n",
    "scaler = preprocessing.StandardScaler()\n",
    "X_Train = scaler.fit_transform(X_train)\n",
    "X_Valid = scaler.transform(X_valid)\n",
    "X_Test = scaler.transform(X_test)\n"
   ]
  },
  {
   "cell_type": "code",
   "execution_count": 18,
   "metadata": {
    "collapsed": false
   },
   "outputs": [
    {
     "name": "stdout",
     "output_type": "stream",
     "text": [
      "[ 1.23140095  3.55082944  1.0552557   0.83748605  9.21178345 -0.11855874\n",
      "  2.11556993  1.42591267 -2.11237415  2.18845605 -1.15563926]\n",
      "[   7.9       0.64      0.46     10.6       0.244    33.      227.\n",
      "    0.9983    2.87      0.74      9.1   ]\n"
     ]
    }
   ],
   "source": [
    "print(X_Train[0])\n",
    "print(X_train[0])"
   ]
  },
  {
   "cell_type": "code",
   "execution_count": 19,
   "metadata": {
    "collapsed": false,
    "scrolled": true
   },
   "outputs": [
    {
     "name": "stdout",
     "output_type": "stream",
     "text": [
      "Train on 3898 samples, validate on 500 samples\n",
      "Epoch 1/50\n",
      "3898/3898 [==============================] - 0s - loss: 0.6725 - acc: 0.6342 - val_loss: 0.6518 - val_acc: 0.6600\n",
      "Epoch 2/50\n",
      "3898/3898 [==============================] - 0s - loss: 0.6353 - acc: 0.7011 - val_loss: 0.6228 - val_acc: 0.7020\n",
      "Epoch 3/50\n",
      "3898/3898 [==============================] - 0s - loss: 0.6082 - acc: 0.7304 - val_loss: 0.6006 - val_acc: 0.7240\n",
      "Epoch 4/50\n",
      "3898/3898 [==============================] - 0s - loss: 0.5862 - acc: 0.7468 - val_loss: 0.5816 - val_acc: 0.7480\n",
      "Epoch 5/50\n",
      "3898/3898 [==============================] - 0s - loss: 0.5674 - acc: 0.7581 - val_loss: 0.5656 - val_acc: 0.7560\n",
      "Epoch 6/50\n",
      "3898/3898 [==============================] - 0s - loss: 0.5511 - acc: 0.7727 - val_loss: 0.5511 - val_acc: 0.7680\n",
      "Epoch 7/50\n",
      "3898/3898 [==============================] - 0s - loss: 0.5366 - acc: 0.7812 - val_loss: 0.5385 - val_acc: 0.7640\n",
      "Epoch 8/50\n",
      "3898/3898 [==============================] - 0s - loss: 0.5238 - acc: 0.7858 - val_loss: 0.5276 - val_acc: 0.7680\n",
      "Epoch 9/50\n",
      "3898/3898 [==============================] - 0s - loss: 0.5126 - acc: 0.7922 - val_loss: 0.5178 - val_acc: 0.7740\n",
      "Epoch 10/50\n",
      "3898/3898 [==============================] - 0s - loss: 0.5026 - acc: 0.7955 - val_loss: 0.5091 - val_acc: 0.7760\n",
      "Epoch 11/50\n",
      "3898/3898 [==============================] - 0s - loss: 0.4938 - acc: 0.7971 - val_loss: 0.5014 - val_acc: 0.7800\n",
      "Epoch 12/50\n",
      "3898/3898 [==============================] - 0s - loss: 0.4859 - acc: 0.8002 - val_loss: 0.4946 - val_acc: 0.7820\n",
      "Epoch 13/50\n",
      "3898/3898 [==============================] - 0s - loss: 0.4789 - acc: 0.7996 - val_loss: 0.4888 - val_acc: 0.7880\n",
      "Epoch 14/50\n",
      "3898/3898 [==============================] - 0s - loss: 0.4727 - acc: 0.8025 - val_loss: 0.4834 - val_acc: 0.7920\n",
      "Epoch 15/50\n",
      "3898/3898 [==============================] - 0s - loss: 0.4672 - acc: 0.8043 - val_loss: 0.4788 - val_acc: 0.7900\n",
      "Epoch 16/50\n",
      "3898/3898 [==============================] - 0s - loss: 0.4623 - acc: 0.8035 - val_loss: 0.4748 - val_acc: 0.7980\n",
      "Epoch 17/50\n",
      "3898/3898 [==============================] - 0s - loss: 0.4580 - acc: 0.8025 - val_loss: 0.4711 - val_acc: 0.7980\n",
      "Epoch 18/50\n",
      "3898/3898 [==============================] - 0s - loss: 0.4540 - acc: 0.8043 - val_loss: 0.4681 - val_acc: 0.7940\n",
      "Epoch 19/50\n",
      "3898/3898 [==============================] - 0s - loss: 0.4506 - acc: 0.8035 - val_loss: 0.4653 - val_acc: 0.7980\n",
      "Epoch 20/50\n",
      "3898/3898 [==============================] - 0s - loss: 0.4475 - acc: 0.8043 - val_loss: 0.4629 - val_acc: 0.8000\n",
      "Epoch 21/50\n",
      "3898/3898 [==============================] - 0s - loss: 0.4448 - acc: 0.8035 - val_loss: 0.4608 - val_acc: 0.7980\n",
      "Epoch 22/50\n",
      "3898/3898 [==============================] - 0s - loss: 0.4424 - acc: 0.8025 - val_loss: 0.4588 - val_acc: 0.7920\n",
      "Epoch 23/50\n",
      "3898/3898 [==============================] - 0s - loss: 0.4403 - acc: 0.8017 - val_loss: 0.4573 - val_acc: 0.7940\n",
      "Epoch 24/50\n",
      "3898/3898 [==============================] - 0s - loss: 0.4384 - acc: 0.8025 - val_loss: 0.4559 - val_acc: 0.7900\n",
      "Epoch 25/50\n",
      "3898/3898 [==============================] - 0s - loss: 0.4367 - acc: 0.8017 - val_loss: 0.4545 - val_acc: 0.7880\n",
      "Epoch 26/50\n",
      "3898/3898 [==============================] - 0s - loss: 0.4352 - acc: 0.8012 - val_loss: 0.4535 - val_acc: 0.7900\n",
      "Epoch 27/50\n",
      "3898/3898 [==============================] - 0s - loss: 0.4339 - acc: 0.8017 - val_loss: 0.4526 - val_acc: 0.7900\n",
      "Epoch 28/50\n",
      "3898/3898 [==============================] - 0s - loss: 0.4328 - acc: 0.8053 - val_loss: 0.4521 - val_acc: 0.7880\n",
      "Epoch 29/50\n",
      "3898/3898 [==============================] - 0s - loss: 0.4317 - acc: 0.8027 - val_loss: 0.4514 - val_acc: 0.7880\n",
      "Epoch 30/50\n",
      "3898/3898 [==============================] - 0s - loss: 0.4307 - acc: 0.8027 - val_loss: 0.4507 - val_acc: 0.7900\n",
      "Epoch 31/50\n",
      "3898/3898 [==============================] - 0s - loss: 0.4299 - acc: 0.8030 - val_loss: 0.4500 - val_acc: 0.7900\n",
      "Epoch 32/50\n",
      "3898/3898 [==============================] - 0s - loss: 0.4292 - acc: 0.8048 - val_loss: 0.4495 - val_acc: 0.7900\n",
      "Epoch 33/50\n",
      "3898/3898 [==============================] - 0s - loss: 0.4285 - acc: 0.8045 - val_loss: 0.4490 - val_acc: 0.7900\n",
      "Epoch 34/50\n",
      "3898/3898 [==============================] - 0s - loss: 0.4280 - acc: 0.8045 - val_loss: 0.4487 - val_acc: 0.7900\n",
      "Epoch 35/50\n",
      "3898/3898 [==============================] - 0s - loss: 0.4275 - acc: 0.8050 - val_loss: 0.4487 - val_acc: 0.7880\n",
      "Epoch 36/50\n",
      "3898/3898 [==============================] - 0s - loss: 0.4271 - acc: 0.8048 - val_loss: 0.4483 - val_acc: 0.7880\n",
      "Epoch 37/50\n",
      "3898/3898 [==============================] - 0s - loss: 0.4267 - acc: 0.8040 - val_loss: 0.4483 - val_acc: 0.7880\n",
      "Epoch 38/50\n",
      "3898/3898 [==============================] - 0s - loss: 0.4264 - acc: 0.8050 - val_loss: 0.4478 - val_acc: 0.7900\n",
      "Epoch 39/50\n",
      "3898/3898 [==============================] - 0s - loss: 0.4259 - acc: 0.8045 - val_loss: 0.4478 - val_acc: 0.7880\n",
      "Epoch 40/50\n",
      "3898/3898 [==============================] - 0s - loss: 0.4258 - acc: 0.8037 - val_loss: 0.4477 - val_acc: 0.7900\n",
      "Epoch 41/50\n",
      "3898/3898 [==============================] - 0s - loss: 0.4255 - acc: 0.8030 - val_loss: 0.4475 - val_acc: 0.7900\n",
      "Epoch 42/50\n",
      "3898/3898 [==============================] - 0s - loss: 0.4253 - acc: 0.8048 - val_loss: 0.4474 - val_acc: 0.7880\n",
      "Epoch 43/50\n",
      "3898/3898 [==============================] - 0s - loss: 0.4251 - acc: 0.8030 - val_loss: 0.4475 - val_acc: 0.7900\n",
      "Epoch 44/50\n",
      "3898/3898 [==============================] - 0s - loss: 0.4249 - acc: 0.8037 - val_loss: 0.4472 - val_acc: 0.7880\n",
      "Epoch 45/50\n",
      "3898/3898 [==============================] - 0s - loss: 0.4247 - acc: 0.8030 - val_loss: 0.4474 - val_acc: 0.7880\n",
      "Epoch 46/50\n",
      "3898/3898 [==============================] - 0s - loss: 0.4246 - acc: 0.8032 - val_loss: 0.4475 - val_acc: 0.7880\n",
      "Epoch 47/50\n",
      "3898/3898 [==============================] - 0s - loss: 0.4246 - acc: 0.8027 - val_loss: 0.4473 - val_acc: 0.7880\n",
      "Epoch 48/50\n",
      "3898/3898 [==============================] - 0s - loss: 0.4244 - acc: 0.8017 - val_loss: 0.4472 - val_acc: 0.7880\n",
      "Epoch 49/50\n",
      "3898/3898 [==============================] - 0s - loss: 0.4243 - acc: 0.8037 - val_loss: 0.4472 - val_acc: 0.7880\n",
      "Epoch 50/50\n",
      "3898/3898 [==============================] - 0s - loss: 0.4242 - acc: 0.8014 - val_loss: 0.4471 - val_acc: 0.7900\n"
     ]
    },
    {
     "data": {
      "text/plain": [
       "<keras.callbacks.History at 0x7f8a0fd48e50>"
      ]
     },
     "execution_count": 19,
     "metadata": {},
     "output_type": "execute_result"
    }
   ],
   "source": [
    "model.fit(X_Train, Y_train, nb_epoch=50, batch_size=50, validation_data=[X_Valid, Y_valid])"
   ]
  },
  {
   "cell_type": "code",
   "execution_count": 20,
   "metadata": {
    "collapsed": false
   },
   "outputs": [
    {
     "data": {
      "text/plain": [
       "[array([[ 0.12483837],\n",
       "        [-0.32502642],\n",
       "        [-0.05510116],\n",
       "        [ 0.53180546],\n",
       "        [-0.31839779],\n",
       "        [ 0.19786701],\n",
       "        [-0.13290852],\n",
       "        [-0.46295828],\n",
       "        [ 0.23405541],\n",
       "        [ 0.17872934],\n",
       "        [ 0.80128884]], dtype=float32), array([-1.60823309], dtype=float32)]"
      ]
     },
     "execution_count": 20,
     "metadata": {},
     "output_type": "execute_result"
    }
   ],
   "source": [
    "model.get_weights()"
   ]
  },
  {
   "cell_type": "code",
   "execution_count": 21,
   "metadata": {
    "collapsed": false
   },
   "outputs": [
    {
     "name": "stdout",
     "output_type": "stream",
     "text": [
      "\r",
      " 32/500 [>.............................] - ETA: 0s"
     ]
    },
    {
     "data": {
      "text/plain": [
       "[0.42596645832061769, 0.8080000009536743]"
      ]
     },
     "execution_count": 21,
     "metadata": {},
     "output_type": "execute_result"
    }
   ],
   "source": [
    "model.evaluate(X_Test, Y_test)"
   ]
  },
  {
   "cell_type": "code",
   "execution_count": 22,
   "metadata": {
    "collapsed": false
   },
   "outputs": [
    {
     "name": "stdout",
     "output_type": "stream",
     "text": [
      "\r",
      " 32/500 [>.............................] - ETA: 0s"
     ]
    }
   ],
   "source": [
    "Yhat = model.predict(X_Test) ## these are probabilities\n",
    "Yhat_class = model.predict_classes(X_Test)"
   ]
  },
  {
   "cell_type": "code",
   "execution_count": 23,
   "metadata": {
    "collapsed": false
   },
   "outputs": [],
   "source": [
    "#Yhat_class\n",
    "#Yhat"
   ]
  },
  {
   "cell_type": "markdown",
   "metadata": {},
   "source": [
    "## First Neural Network"
   ]
  },
  {
   "cell_type": "code",
   "execution_count": 24,
   "metadata": {
    "collapsed": true
   },
   "outputs": [],
   "source": [
    "# create model with a hidden layer\n",
    "model2 = Sequential()\n",
    "model2.add(Dense(20, input_dim=K-1, init='uniform', activation='relu'))\n",
    "model2.add(Dense(1, init='uniform', activation='sigmoid'))"
   ]
  },
  {
   "cell_type": "code",
   "execution_count": 25,
   "metadata": {
    "collapsed": false
   },
   "outputs": [
    {
     "name": "stdout",
     "output_type": "stream",
     "text": [
      "____________________________________________________________________________________________________\n",
      "Layer (type)                     Output Shape          Param #     Connected to                     \n",
      "====================================================================================================\n",
      "dense_2 (Dense)                  (None, 20)            240         dense_input_2[0][0]              \n",
      "____________________________________________________________________________________________________\n",
      "dense_3 (Dense)                  (None, 1)             21          dense_2[0][0]                    \n",
      "====================================================================================================\n",
      "Total params: 261\n",
      "____________________________________________________________________________________________________\n"
     ]
    }
   ],
   "source": [
    "model2.summary()"
   ]
  },
  {
   "cell_type": "code",
   "execution_count": 26,
   "metadata": {
    "collapsed": true
   },
   "outputs": [],
   "source": [
    "model2.compile(loss=\"binary_crossentropy\", optimizer=\"adam\", metrics=[\"accuracy\"])"
   ]
  },
  {
   "cell_type": "code",
   "execution_count": 27,
   "metadata": {
    "collapsed": false
   },
   "outputs": [
    {
     "data": {
      "text/plain": [
       "array(0.0010000000474974513, dtype=float32)"
      ]
     },
     "execution_count": 27,
     "metadata": {},
     "output_type": "execute_result"
    }
   ],
   "source": [
    "model2.optimizer.lr.get_value()\n",
    "#model2.optimizer.lr.set_value(0.0001)\n",
    "#model2.optimizer.lr.get_value()"
   ]
  },
  {
   "cell_type": "code",
   "execution_count": 28,
   "metadata": {
    "collapsed": true
   },
   "outputs": [],
   "source": [
    "model.optimizer.lr.set_value(0.01)"
   ]
  },
  {
   "cell_type": "code",
   "execution_count": 29,
   "metadata": {
    "collapsed": false,
    "scrolled": true
   },
   "outputs": [
    {
     "name": "stdout",
     "output_type": "stream",
     "text": [
      "Train on 3898 samples, validate on 500 samples\n",
      "Epoch 1/30\n",
      "3898/3898 [==============================] - 0s - loss: 0.6451 - acc: 0.7819 - val_loss: 0.5787 - val_acc: 0.7740\n",
      "Epoch 2/30\n",
      "3898/3898 [==============================] - 0s - loss: 0.5165 - acc: 0.7842 - val_loss: 0.4882 - val_acc: 0.7740\n",
      "Epoch 3/30\n",
      "3898/3898 [==============================] - 0s - loss: 0.4503 - acc: 0.7858 - val_loss: 0.4542 - val_acc: 0.7840\n",
      "Epoch 4/30\n",
      "3898/3898 [==============================] - 0s - loss: 0.4239 - acc: 0.8073 - val_loss: 0.4390 - val_acc: 0.7880\n",
      "Epoch 5/30\n",
      "3898/3898 [==============================] - 0s - loss: 0.4113 - acc: 0.8163 - val_loss: 0.4302 - val_acc: 0.7940\n",
      "Epoch 6/30\n",
      "3898/3898 [==============================] - 0s - loss: 0.4046 - acc: 0.8153 - val_loss: 0.4266 - val_acc: 0.7980\n",
      "Epoch 7/30\n",
      "3898/3898 [==============================] - 0s - loss: 0.4001 - acc: 0.8166 - val_loss: 0.4251 - val_acc: 0.7960\n",
      "Epoch 8/30\n",
      "3898/3898 [==============================] - 0s - loss: 0.3972 - acc: 0.8171 - val_loss: 0.4251 - val_acc: 0.7960\n",
      "Epoch 9/30\n",
      "3898/3898 [==============================] - 0s - loss: 0.3950 - acc: 0.8186 - val_loss: 0.4240 - val_acc: 0.7940\n",
      "Epoch 10/30\n",
      "3898/3898 [==============================] - 0s - loss: 0.3929 - acc: 0.8166 - val_loss: 0.4215 - val_acc: 0.7940\n",
      "Epoch 11/30\n",
      "3898/3898 [==============================] - 0s - loss: 0.3914 - acc: 0.8186 - val_loss: 0.4227 - val_acc: 0.7980\n",
      "Epoch 12/30\n",
      "3898/3898 [==============================] - 0s - loss: 0.3903 - acc: 0.8179 - val_loss: 0.4210 - val_acc: 0.8040\n",
      "Epoch 13/30\n",
      "3898/3898 [==============================] - 0s - loss: 0.3892 - acc: 0.8194 - val_loss: 0.4210 - val_acc: 0.8000\n",
      "Epoch 14/30\n",
      "3898/3898 [==============================] - 0s - loss: 0.3880 - acc: 0.8181 - val_loss: 0.4209 - val_acc: 0.8020\n",
      "Epoch 15/30\n",
      "3898/3898 [==============================] - 0s - loss: 0.3873 - acc: 0.8204 - val_loss: 0.4216 - val_acc: 0.8000\n",
      "Epoch 16/30\n",
      "3898/3898 [==============================] - 0s - loss: 0.3864 - acc: 0.8194 - val_loss: 0.4185 - val_acc: 0.7980\n",
      "Epoch 17/30\n",
      "3898/3898 [==============================] - 0s - loss: 0.3856 - acc: 0.8191 - val_loss: 0.4187 - val_acc: 0.8000\n",
      "Epoch 18/30\n",
      "3898/3898 [==============================] - 0s - loss: 0.3848 - acc: 0.8189 - val_loss: 0.4184 - val_acc: 0.8040\n",
      "Epoch 19/30\n",
      "3898/3898 [==============================] - 0s - loss: 0.3841 - acc: 0.8197 - val_loss: 0.4174 - val_acc: 0.8040\n",
      "Epoch 20/30\n",
      "3898/3898 [==============================] - 0s - loss: 0.3832 - acc: 0.8191 - val_loss: 0.4164 - val_acc: 0.8020\n",
      "Epoch 21/30\n",
      "3898/3898 [==============================] - 0s - loss: 0.3823 - acc: 0.8204 - val_loss: 0.4158 - val_acc: 0.8040\n",
      "Epoch 22/30\n",
      "3898/3898 [==============================] - 0s - loss: 0.3819 - acc: 0.8194 - val_loss: 0.4168 - val_acc: 0.8020\n",
      "Epoch 23/30\n",
      "3898/3898 [==============================] - 0s - loss: 0.3809 - acc: 0.8207 - val_loss: 0.4186 - val_acc: 0.8040\n",
      "Epoch 24/30\n",
      "3898/3898 [==============================] - 0s - loss: 0.3810 - acc: 0.8204 - val_loss: 0.4180 - val_acc: 0.7980\n",
      "Epoch 25/30\n",
      "3898/3898 [==============================] - 0s - loss: 0.3794 - acc: 0.8191 - val_loss: 0.4140 - val_acc: 0.8020\n",
      "Epoch 26/30\n",
      "3898/3898 [==============================] - 0s - loss: 0.3797 - acc: 0.8204 - val_loss: 0.4155 - val_acc: 0.8020\n",
      "Epoch 27/30\n",
      "3898/3898 [==============================] - 0s - loss: 0.3788 - acc: 0.8207 - val_loss: 0.4153 - val_acc: 0.8040\n",
      "Epoch 28/30\n",
      "3898/3898 [==============================] - 0s - loss: 0.3780 - acc: 0.8204 - val_loss: 0.4146 - val_acc: 0.7980\n",
      "Epoch 29/30\n",
      "3898/3898 [==============================] - 0s - loss: 0.3772 - acc: 0.8204 - val_loss: 0.4139 - val_acc: 0.8000\n",
      "Epoch 30/30\n",
      "3898/3898 [==============================] - 0s - loss: 0.3768 - acc: 0.8209 - val_loss: 0.4131 - val_acc: 0.8020\n"
     ]
    },
    {
     "data": {
      "text/plain": [
       "<keras.callbacks.History at 0x7f8a0d6454d0>"
      ]
     },
     "execution_count": 29,
     "metadata": {},
     "output_type": "execute_result"
    }
   ],
   "source": [
    "model2.fit(X_Train, Y_train, nb_epoch=30, batch_size=50, validation_data=[X_Valid, Y_valid])"
   ]
  },
  {
   "cell_type": "code",
   "execution_count": 30,
   "metadata": {
    "collapsed": true
   },
   "outputs": [],
   "source": [
    "model.optimizer.lr.set_value(0.001)"
   ]
  },
  {
   "cell_type": "code",
   "execution_count": 31,
   "metadata": {
    "collapsed": false,
    "scrolled": true
   },
   "outputs": [
    {
     "name": "stdout",
     "output_type": "stream",
     "text": [
      "Train on 3898 samples, validate on 500 samples\n",
      "Epoch 1/30\n",
      "3898/3898 [==============================] - 0s - loss: 0.3763 - acc: 0.8207 - val_loss: 0.4126 - val_acc: 0.7980\n",
      "Epoch 2/30\n",
      "3898/3898 [==============================] - 0s - loss: 0.3759 - acc: 0.8217 - val_loss: 0.4117 - val_acc: 0.8000\n",
      "Epoch 3/30\n",
      "3898/3898 [==============================] - 0s - loss: 0.3748 - acc: 0.8225 - val_loss: 0.4127 - val_acc: 0.8040\n",
      "Epoch 4/30\n",
      "3898/3898 [==============================] - 0s - loss: 0.3751 - acc: 0.8207 - val_loss: 0.4158 - val_acc: 0.8060\n",
      "Epoch 5/30\n",
      "3898/3898 [==============================] - 0s - loss: 0.3740 - acc: 0.8207 - val_loss: 0.4129 - val_acc: 0.8060\n",
      "Epoch 6/30\n",
      "3898/3898 [==============================] - 0s - loss: 0.3735 - acc: 0.8222 - val_loss: 0.4123 - val_acc: 0.8060\n",
      "Epoch 7/30\n",
      "3898/3898 [==============================] - 0s - loss: 0.3729 - acc: 0.8220 - val_loss: 0.4126 - val_acc: 0.8060\n",
      "Epoch 8/30\n",
      "3898/3898 [==============================] - 0s - loss: 0.3721 - acc: 0.8217 - val_loss: 0.4108 - val_acc: 0.8040\n",
      "Epoch 9/30\n",
      "3898/3898 [==============================] - 0s - loss: 0.3721 - acc: 0.8204 - val_loss: 0.4126 - val_acc: 0.8060\n",
      "Epoch 10/30\n",
      "3898/3898 [==============================] - 0s - loss: 0.3713 - acc: 0.8209 - val_loss: 0.4129 - val_acc: 0.8040\n",
      "Epoch 11/30\n",
      "3898/3898 [==============================] - 0s - loss: 0.3708 - acc: 0.8227 - val_loss: 0.4126 - val_acc: 0.8040\n",
      "Epoch 12/30\n",
      "3898/3898 [==============================] - 0s - loss: 0.3700 - acc: 0.8222 - val_loss: 0.4117 - val_acc: 0.8040\n",
      "Epoch 13/30\n",
      "3898/3898 [==============================] - 0s - loss: 0.3698 - acc: 0.8235 - val_loss: 0.4115 - val_acc: 0.8040\n",
      "Epoch 14/30\n",
      "3898/3898 [==============================] - 0s - loss: 0.3691 - acc: 0.8235 - val_loss: 0.4123 - val_acc: 0.8080\n",
      "Epoch 15/30\n",
      "3898/3898 [==============================] - 0s - loss: 0.3687 - acc: 0.8235 - val_loss: 0.4145 - val_acc: 0.8040\n",
      "Epoch 16/30\n",
      "3898/3898 [==============================] - 0s - loss: 0.3685 - acc: 0.8214 - val_loss: 0.4119 - val_acc: 0.8120\n",
      "Epoch 17/30\n",
      "3898/3898 [==============================] - 0s - loss: 0.3679 - acc: 0.8227 - val_loss: 0.4125 - val_acc: 0.8080\n",
      "Epoch 18/30\n",
      "3898/3898 [==============================] - 0s - loss: 0.3675 - acc: 0.8248 - val_loss: 0.4126 - val_acc: 0.8080\n",
      "Epoch 19/30\n",
      "3898/3898 [==============================] - 0s - loss: 0.3671 - acc: 0.8230 - val_loss: 0.4133 - val_acc: 0.8100\n",
      "Epoch 20/30\n",
      "3898/3898 [==============================] - 0s - loss: 0.3669 - acc: 0.8222 - val_loss: 0.4134 - val_acc: 0.8100\n",
      "Epoch 21/30\n",
      "3898/3898 [==============================] - 0s - loss: 0.3664 - acc: 0.8253 - val_loss: 0.4146 - val_acc: 0.8100\n",
      "Epoch 22/30\n",
      "3898/3898 [==============================] - 0s - loss: 0.3661 - acc: 0.8248 - val_loss: 0.4148 - val_acc: 0.8040\n",
      "Epoch 23/30\n",
      "3898/3898 [==============================] - 0s - loss: 0.3657 - acc: 0.8225 - val_loss: 0.4145 - val_acc: 0.8040\n",
      "Epoch 24/30\n",
      "3898/3898 [==============================] - 0s - loss: 0.3657 - acc: 0.8222 - val_loss: 0.4140 - val_acc: 0.8080\n",
      "Epoch 25/30\n",
      "3898/3898 [==============================] - 0s - loss: 0.3654 - acc: 0.8240 - val_loss: 0.4163 - val_acc: 0.8060\n",
      "Epoch 26/30\n",
      "3898/3898 [==============================] - 0s - loss: 0.3650 - acc: 0.8235 - val_loss: 0.4145 - val_acc: 0.8080\n",
      "Epoch 27/30\n",
      "3898/3898 [==============================] - 0s - loss: 0.3645 - acc: 0.8250 - val_loss: 0.4154 - val_acc: 0.8080\n",
      "Epoch 28/30\n",
      "3898/3898 [==============================] - 0s - loss: 0.3646 - acc: 0.8245 - val_loss: 0.4147 - val_acc: 0.8100\n",
      "Epoch 29/30\n",
      "3898/3898 [==============================] - 0s - loss: 0.3645 - acc: 0.8240 - val_loss: 0.4172 - val_acc: 0.8080\n",
      "Epoch 30/30\n",
      "3898/3898 [==============================] - 0s - loss: 0.3638 - acc: 0.8225 - val_loss: 0.4146 - val_acc: 0.8080\n"
     ]
    },
    {
     "data": {
      "text/plain": [
       "<keras.callbacks.History at 0x7f8a0d645cd0>"
      ]
     },
     "execution_count": 31,
     "metadata": {},
     "output_type": "execute_result"
    }
   ],
   "source": [
    "model2.fit(X_Train, Y_train, nb_epoch=30, batch_size=50, validation_data=[X_Valid, Y_valid])"
   ]
  },
  {
   "cell_type": "code",
   "execution_count": 32,
   "metadata": {
    "collapsed": true
   },
   "outputs": [],
   "source": [
    "model.optimizer.lr.set_value(0.0001)"
   ]
  },
  {
   "cell_type": "code",
   "execution_count": 33,
   "metadata": {
    "collapsed": false,
    "scrolled": true
   },
   "outputs": [
    {
     "name": "stdout",
     "output_type": "stream",
     "text": [
      "Train on 3898 samples, validate on 500 samples\n",
      "Epoch 1/50\n",
      "3898/3898 [==============================] - 0s - loss: 0.3638 - acc: 0.8240 - val_loss: 0.4152 - val_acc: 0.8080\n",
      "Epoch 2/50\n",
      "3898/3898 [==============================] - 0s - loss: 0.3637 - acc: 0.8240 - val_loss: 0.4163 - val_acc: 0.8060\n",
      "Epoch 3/50\n",
      "3898/3898 [==============================] - 0s - loss: 0.3633 - acc: 0.8258 - val_loss: 0.4161 - val_acc: 0.8080\n",
      "Epoch 4/50\n",
      "3898/3898 [==============================] - 0s - loss: 0.3629 - acc: 0.8256 - val_loss: 0.4149 - val_acc: 0.8120\n",
      "Epoch 5/50\n",
      "3898/3898 [==============================] - 0s - loss: 0.3633 - acc: 0.8253 - val_loss: 0.4171 - val_acc: 0.8080\n",
      "Epoch 6/50\n",
      "3898/3898 [==============================] - 0s - loss: 0.3629 - acc: 0.8250 - val_loss: 0.4173 - val_acc: 0.8100\n",
      "Epoch 7/50\n",
      "3898/3898 [==============================] - 0s - loss: 0.3621 - acc: 0.8258 - val_loss: 0.4175 - val_acc: 0.8080\n",
      "Epoch 8/50\n",
      "3898/3898 [==============================] - 0s - loss: 0.3625 - acc: 0.8232 - val_loss: 0.4177 - val_acc: 0.8120\n",
      "Epoch 9/50\n",
      "3898/3898 [==============================] - 0s - loss: 0.3621 - acc: 0.8253 - val_loss: 0.4175 - val_acc: 0.8120\n",
      "Epoch 10/50\n",
      "3898/3898 [==============================] - 0s - loss: 0.3621 - acc: 0.8248 - val_loss: 0.4168 - val_acc: 0.8120\n",
      "Epoch 11/50\n",
      "3898/3898 [==============================] - 0s - loss: 0.3622 - acc: 0.8253 - val_loss: 0.4187 - val_acc: 0.8080\n",
      "Epoch 12/50\n",
      "3898/3898 [==============================] - 0s - loss: 0.3615 - acc: 0.8263 - val_loss: 0.4169 - val_acc: 0.8120\n",
      "Epoch 13/50\n",
      "3898/3898 [==============================] - 0s - loss: 0.3615 - acc: 0.8261 - val_loss: 0.4166 - val_acc: 0.8100\n",
      "Epoch 14/50\n",
      "3898/3898 [==============================] - 0s - loss: 0.3612 - acc: 0.8263 - val_loss: 0.4175 - val_acc: 0.8080\n",
      "Epoch 15/50\n",
      "3898/3898 [==============================] - 0s - loss: 0.3610 - acc: 0.8268 - val_loss: 0.4186 - val_acc: 0.8120\n",
      "Epoch 16/50\n",
      "3898/3898 [==============================] - 0s - loss: 0.3611 - acc: 0.8261 - val_loss: 0.4179 - val_acc: 0.8080\n",
      "Epoch 17/50\n",
      "3898/3898 [==============================] - 0s - loss: 0.3608 - acc: 0.8253 - val_loss: 0.4180 - val_acc: 0.8080\n",
      "Epoch 18/50\n",
      "3898/3898 [==============================] - 0s - loss: 0.3609 - acc: 0.8284 - val_loss: 0.4185 - val_acc: 0.8080\n",
      "Epoch 19/50\n",
      "3898/3898 [==============================] - 0s - loss: 0.3606 - acc: 0.8289 - val_loss: 0.4200 - val_acc: 0.8120\n",
      "Epoch 20/50\n",
      "3898/3898 [==============================] - 0s - loss: 0.3605 - acc: 0.8245 - val_loss: 0.4207 - val_acc: 0.8120\n",
      "Epoch 21/50\n",
      "3898/3898 [==============================] - 0s - loss: 0.3600 - acc: 0.8276 - val_loss: 0.4180 - val_acc: 0.8100\n",
      "Epoch 22/50\n",
      "3898/3898 [==============================] - 0s - loss: 0.3597 - acc: 0.8266 - val_loss: 0.4216 - val_acc: 0.8100\n",
      "Epoch 23/50\n",
      "3898/3898 [==============================] - 0s - loss: 0.3603 - acc: 0.8248 - val_loss: 0.4187 - val_acc: 0.8100\n",
      "Epoch 24/50\n",
      "3898/3898 [==============================] - 0s - loss: 0.3594 - acc: 0.8263 - val_loss: 0.4186 - val_acc: 0.8120\n",
      "Epoch 25/50\n",
      "3898/3898 [==============================] - 0s - loss: 0.3599 - acc: 0.8271 - val_loss: 0.4186 - val_acc: 0.8100\n",
      "Epoch 26/50\n",
      "3898/3898 [==============================] - 0s - loss: 0.3594 - acc: 0.8250 - val_loss: 0.4193 - val_acc: 0.8080\n",
      "Epoch 27/50\n",
      "3898/3898 [==============================] - 0s - loss: 0.3596 - acc: 0.8256 - val_loss: 0.4197 - val_acc: 0.8100\n",
      "Epoch 28/50\n",
      "3898/3898 [==============================] - 0s - loss: 0.3591 - acc: 0.8286 - val_loss: 0.4205 - val_acc: 0.8140\n",
      "Epoch 29/50\n",
      "3898/3898 [==============================] - 0s - loss: 0.3586 - acc: 0.8268 - val_loss: 0.4190 - val_acc: 0.8160\n",
      "Epoch 30/50\n",
      "3898/3898 [==============================] - 0s - loss: 0.3590 - acc: 0.8273 - val_loss: 0.4207 - val_acc: 0.8160\n",
      "Epoch 31/50\n",
      "3898/3898 [==============================] - 0s - loss: 0.3584 - acc: 0.8289 - val_loss: 0.4187 - val_acc: 0.8160\n",
      "Epoch 32/50\n",
      "3898/3898 [==============================] - 0s - loss: 0.3583 - acc: 0.8261 - val_loss: 0.4224 - val_acc: 0.8180\n",
      "Epoch 33/50\n",
      "3898/3898 [==============================] - 0s - loss: 0.3586 - acc: 0.8263 - val_loss: 0.4219 - val_acc: 0.8140\n",
      "Epoch 34/50\n",
      "3898/3898 [==============================] - 0s - loss: 0.3582 - acc: 0.8289 - val_loss: 0.4198 - val_acc: 0.8120\n",
      "Epoch 35/50\n",
      "3898/3898 [==============================] - 0s - loss: 0.3577 - acc: 0.8268 - val_loss: 0.4189 - val_acc: 0.8160\n",
      "Epoch 36/50\n",
      "3898/3898 [==============================] - 0s - loss: 0.3579 - acc: 0.8271 - val_loss: 0.4202 - val_acc: 0.8100\n",
      "Epoch 37/50\n",
      "3898/3898 [==============================] - 0s - loss: 0.3576 - acc: 0.8276 - val_loss: 0.4214 - val_acc: 0.8160\n",
      "Epoch 38/50\n",
      "3898/3898 [==============================] - 0s - loss: 0.3575 - acc: 0.8273 - val_loss: 0.4202 - val_acc: 0.8160\n",
      "Epoch 39/50\n",
      "3898/3898 [==============================] - 0s - loss: 0.3572 - acc: 0.8302 - val_loss: 0.4203 - val_acc: 0.8160\n",
      "Epoch 40/50\n",
      "3898/3898 [==============================] - 0s - loss: 0.3568 - acc: 0.8299 - val_loss: 0.4195 - val_acc: 0.8260\n",
      "Epoch 41/50\n",
      "3898/3898 [==============================] - 0s - loss: 0.3566 - acc: 0.8286 - val_loss: 0.4223 - val_acc: 0.8160\n",
      "Epoch 42/50\n",
      "3898/3898 [==============================] - 0s - loss: 0.3566 - acc: 0.8276 - val_loss: 0.4180 - val_acc: 0.8260\n",
      "Epoch 43/50\n",
      "3898/3898 [==============================] - 0s - loss: 0.3569 - acc: 0.8299 - val_loss: 0.4204 - val_acc: 0.8240\n",
      "Epoch 44/50\n",
      "3898/3898 [==============================] - 0s - loss: 0.3564 - acc: 0.8317 - val_loss: 0.4204 - val_acc: 0.8180\n",
      "Epoch 45/50\n",
      "3898/3898 [==============================] - 0s - loss: 0.3562 - acc: 0.8304 - val_loss: 0.4218 - val_acc: 0.8200\n",
      "Epoch 46/50\n",
      "3898/3898 [==============================] - 0s - loss: 0.3560 - acc: 0.8307 - val_loss: 0.4211 - val_acc: 0.8180\n",
      "Epoch 47/50\n",
      "3898/3898 [==============================] - 0s - loss: 0.3561 - acc: 0.8317 - val_loss: 0.4202 - val_acc: 0.8180\n",
      "Epoch 48/50\n",
      "3898/3898 [==============================] - 0s - loss: 0.3561 - acc: 0.8286 - val_loss: 0.4193 - val_acc: 0.8260\n",
      "Epoch 49/50\n",
      "3898/3898 [==============================] - 0s - loss: 0.3558 - acc: 0.8302 - val_loss: 0.4191 - val_acc: 0.8240\n",
      "Epoch 50/50\n",
      "3898/3898 [==============================] - 0s - loss: 0.3553 - acc: 0.8299 - val_loss: 0.4203 - val_acc: 0.8180\n"
     ]
    },
    {
     "data": {
      "text/plain": [
       "<keras.callbacks.History at 0x7f8a0fd4ff50>"
      ]
     },
     "execution_count": 33,
     "metadata": {},
     "output_type": "execute_result"
    }
   ],
   "source": [
    "model2.fit(X_Train, Y_train, nb_epoch=50, batch_size=50, validation_data=[X_Valid, Y_valid])"
   ]
  },
  {
   "cell_type": "code",
   "execution_count": 34,
   "metadata": {
    "collapsed": false
   },
   "outputs": [
    {
     "name": "stdout",
     "output_type": "stream",
     "text": [
      "\r",
      " 32/500 [>.............................] - ETA: 0s"
     ]
    },
    {
     "data": {
      "text/plain": [
       "[0.3660741767883301, 0.84000000095367433]"
      ]
     },
     "execution_count": 34,
     "metadata": {},
     "output_type": "execute_result"
    }
   ],
   "source": [
    "model2.evaluate(X_Test, Y_test)"
   ]
  },
  {
   "cell_type": "markdown",
   "metadata": {},
   "source": [
    "## Ensemble"
   ]
  },
  {
   "cell_type": "code",
   "execution_count": 35,
   "metadata": {
    "collapsed": true
   },
   "outputs": [],
   "source": [
    "model3 = Sequential()\n",
    "model3.add(Dense(1, input_dim=2, init='uniform', activation='sigmoid'))"
   ]
  },
  {
   "cell_type": "code",
   "execution_count": 36,
   "metadata": {
    "collapsed": true
   },
   "outputs": [],
   "source": [
    "# getting predictions from the two models\n",
    "m1 = model.predict(X_Train)\n",
    "m2 = model2.predict(X_Train)\n",
    "x = np.column_stack((m1, m2))"
   ]
  },
  {
   "cell_type": "code",
   "execution_count": 37,
   "metadata": {
    "collapsed": false
   },
   "outputs": [
    {
     "name": "stdout",
     "output_type": "stream",
     "text": [
      "(array([ 0.00078547], dtype=float32), array([  3.62538941e-08], dtype=float32), 0)\n"
     ]
    }
   ],
   "source": [
    "print(m1[0], m2[0], Y_train[0])"
   ]
  },
  {
   "cell_type": "code",
   "execution_count": 38,
   "metadata": {
    "collapsed": false
   },
   "outputs": [
    {
     "data": {
      "text/plain": [
       "array([  7.85468670e-04,   3.62538941e-08], dtype=float32)"
      ]
     },
     "execution_count": 38,
     "metadata": {},
     "output_type": "execute_result"
    }
   ],
   "source": [
    "x[0]"
   ]
  },
  {
   "cell_type": "code",
   "execution_count": 39,
   "metadata": {
    "collapsed": false,
    "scrolled": true
   },
   "outputs": [
    {
     "name": "stdout",
     "output_type": "stream",
     "text": [
      "Epoch 1/50\n",
      "3898/3898 [==============================] - 0s - loss: 0.6827 - acc: 0.7676     \n",
      "Epoch 2/50\n",
      "3898/3898 [==============================] - 0s - loss: 0.6621 - acc: 0.7842     \n",
      "Epoch 3/50\n",
      "3898/3898 [==============================] - 0s - loss: 0.6441 - acc: 0.7842     \n",
      "Epoch 4/50\n",
      "3898/3898 [==============================] - 0s - loss: 0.6282 - acc: 0.7842     \n",
      "Epoch 5/50\n",
      "3898/3898 [==============================] - 0s - loss: 0.6141 - acc: 0.7842     \n",
      "Epoch 6/50\n",
      "3898/3898 [==============================] - 0s - loss: 0.6014 - acc: 0.7842     \n",
      "Epoch 7/50\n",
      "3898/3898 [==============================] - 0s - loss: 0.5898 - acc: 0.7842     \n",
      "Epoch 8/50\n",
      "3898/3898 [==============================] - 0s - loss: 0.5792 - acc: 0.7842     \n",
      "Epoch 9/50\n",
      "3898/3898 [==============================] - 0s - loss: 0.5694 - acc: 0.7842     \n",
      "Epoch 10/50\n",
      "3898/3898 [==============================] - 0s - loss: 0.5602 - acc: 0.7842     \n",
      "Epoch 11/50\n",
      "3898/3898 [==============================] - 0s - loss: 0.5517 - acc: 0.7842     \n",
      "Epoch 12/50\n",
      "3898/3898 [==============================] - 0s - loss: 0.5438 - acc: 0.7842     \n",
      "Epoch 13/50\n",
      "3898/3898 [==============================] - 0s - loss: 0.5362 - acc: 0.7842     \n",
      "Epoch 14/50\n",
      "3898/3898 [==============================] - 0s - loss: 0.5291 - acc: 0.7842     \n",
      "Epoch 15/50\n",
      "3898/3898 [==============================] - 0s - loss: 0.5223 - acc: 0.7842     \n",
      "Epoch 16/50\n",
      "3898/3898 [==============================] - 0s - loss: 0.5159 - acc: 0.7842     \n",
      "Epoch 17/50\n",
      "3898/3898 [==============================] - 0s - loss: 0.5099 - acc: 0.7842     \n",
      "Epoch 18/50\n",
      "3898/3898 [==============================] - 0s - loss: 0.5041 - acc: 0.7842     \n",
      "Epoch 19/50\n",
      "3898/3898 [==============================] - 0s - loss: 0.4985 - acc: 0.7842     \n",
      "Epoch 20/50\n",
      "3898/3898 [==============================] - 0s - loss: 0.4933 - acc: 0.7842     \n",
      "Epoch 21/50\n",
      "3898/3898 [==============================] - 0s - loss: 0.4882 - acc: 0.7842     \n",
      "Epoch 22/50\n",
      "3898/3898 [==============================] - 0s - loss: 0.4834 - acc: 0.7842     \n",
      "Epoch 23/50\n",
      "3898/3898 [==============================] - 0s - loss: 0.4787 - acc: 0.7842     \n",
      "Epoch 24/50\n",
      "3898/3898 [==============================] - 0s - loss: 0.4743 - acc: 0.7842     \n",
      "Epoch 25/50\n",
      "3898/3898 [==============================] - 0s - loss: 0.4701 - acc: 0.7850     \n",
      "Epoch 26/50\n",
      "3898/3898 [==============================] - 0s - loss: 0.4660 - acc: 0.7876     \n",
      "Epoch 27/50\n",
      "3898/3898 [==============================] - 0s - loss: 0.4621 - acc: 0.7932     \n",
      "Epoch 28/50\n",
      "3898/3898 [==============================] - 0s - loss: 0.4584 - acc: 0.7960     \n",
      "Epoch 29/50\n",
      "3898/3898 [==============================] - 0s - loss: 0.4548 - acc: 0.8007     \n",
      "Epoch 30/50\n",
      "3898/3898 [==============================] - 0s - loss: 0.4514 - acc: 0.8035     \n",
      "Epoch 31/50\n",
      "3898/3898 [==============================] - 0s - loss: 0.4481 - acc: 0.8053     \n",
      "Epoch 32/50\n",
      "3898/3898 [==============================] - 0s - loss: 0.4450 - acc: 0.8086     \n",
      "Epoch 33/50\n",
      "3898/3898 [==============================] - 0s - loss: 0.4420 - acc: 0.8102     \n",
      "Epoch 34/50\n",
      "3898/3898 [==============================] - 0s - loss: 0.4391 - acc: 0.8120     \n",
      "Epoch 35/50\n",
      "3898/3898 [==============================] - 0s - loss: 0.4364 - acc: 0.8127     \n",
      "Epoch 36/50\n",
      "3898/3898 [==============================] - 0s - loss: 0.4337 - acc: 0.8125     \n",
      "Epoch 37/50\n",
      "3898/3898 [==============================] - 0s - loss: 0.4312 - acc: 0.8148     \n",
      "Epoch 38/50\n",
      "3898/3898 [==============================] - 0s - loss: 0.4288 - acc: 0.8148     \n",
      "Epoch 39/50\n",
      "3898/3898 [==============================] - 0s - loss: 0.4264 - acc: 0.8145     \n",
      "Epoch 40/50\n",
      "3898/3898 [==============================] - 0s - loss: 0.4242 - acc: 0.8161     \n",
      "Epoch 41/50\n",
      "3898/3898 [==============================] - 0s - loss: 0.4221 - acc: 0.8176     \n",
      "Epoch 42/50\n",
      "3898/3898 [==============================] - 0s - loss: 0.4201 - acc: 0.8194     \n",
      "Epoch 43/50\n",
      "3898/3898 [==============================] - 0s - loss: 0.4181 - acc: 0.8194     \n",
      "Epoch 44/50\n",
      "3898/3898 [==============================] - 0s - loss: 0.4163 - acc: 0.8197     \n",
      "Epoch 45/50\n",
      "3898/3898 [==============================] - 0s - loss: 0.4145 - acc: 0.8194     \n",
      "Epoch 46/50\n",
      "3898/3898 [==============================] - 0s - loss: 0.4128 - acc: 0.8194     \n",
      "Epoch 47/50\n",
      "3898/3898 [==============================] - 0s - loss: 0.4112 - acc: 0.8209     \n",
      "Epoch 48/50\n",
      "3898/3898 [==============================] - 0s - loss: 0.4096 - acc: 0.8214     \n",
      "Epoch 49/50\n",
      "3898/3898 [==============================] - 0s - loss: 0.4081 - acc: 0.8217     \n",
      "Epoch 50/50\n",
      "3898/3898 [==============================] - 0s - loss: 0.4067 - acc: 0.8212     \n"
     ]
    },
    {
     "data": {
      "text/plain": [
       "<keras.callbacks.History at 0x7f8a0d5f1890>"
      ]
     },
     "execution_count": 39,
     "metadata": {},
     "output_type": "execute_result"
    }
   ],
   "source": [
    "model3.compile(loss=\"binary_crossentropy\", optimizer=\"adam\", metrics=[\"accuracy\"])\n",
    "model3.fit(x, Y_train, nb_epoch=50, batch_size=50)"
   ]
  },
  {
   "cell_type": "code",
   "execution_count": 40,
   "metadata": {
    "collapsed": false
   },
   "outputs": [
    {
     "data": {
      "text/plain": [
       "[array([[ 0.9050945 ],\n",
       "        [ 2.56203246]], dtype=float32), array([-2.03053474], dtype=float32)]"
      ]
     },
     "execution_count": 40,
     "metadata": {},
     "output_type": "execute_result"
    }
   ],
   "source": [
    "model3.get_weights()"
   ]
  },
  {
   "cell_type": "code",
   "execution_count": 41,
   "metadata": {
    "collapsed": true
   },
   "outputs": [],
   "source": [
    "m1_test = model.predict(X_Test)\n",
    "m2_test = model2.predict(X_Test)\n",
    "x_test = np.column_stack((m1_test, m2_test))"
   ]
  },
  {
   "cell_type": "code",
   "execution_count": 42,
   "metadata": {
    "collapsed": false
   },
   "outputs": [
    {
     "name": "stdout",
     "output_type": "stream",
     "text": [
      "\r",
      " 32/500 [>.............................] - ETA: 0s"
     ]
    },
    {
     "data": {
      "text/plain": [
       "[0.40323701620101926, 0.83200000095367432]"
      ]
     },
     "execution_count": 42,
     "metadata": {},
     "output_type": "execute_result"
    }
   ],
   "source": [
    "model3.evaluate(x_test, Y_test)"
   ]
  },
  {
   "cell_type": "code",
   "execution_count": null,
   "metadata": {
    "collapsed": true
   },
   "outputs": [],
   "source": []
  }
 ],
 "metadata": {
  "anaconda-cloud": {},
  "kernelspec": {
   "display_name": "Python 2",
   "language": "python",
   "name": "python2"
  },
  "language_info": {
   "codemirror_mode": {
    "name": "ipython",
    "version": 2
   },
   "file_extension": ".py",
   "mimetype": "text/x-python",
   "name": "python",
   "nbconvert_exporter": "python",
   "pygments_lexer": "ipython2",
   "version": "2.7.12"
  },
  "latex_envs": {
   "bibliofile": "biblio.bib",
   "cite_by": "apalike",
   "current_citInitial": 1,
   "eqLabelWithNumbers": true,
   "eqNumInitial": 0
  },
  "toc": {
   "nav_menu": {
    "height": "102px",
    "width": "252px"
   },
   "navigate_menu": true,
   "number_sections": true,
   "sideBar": true,
   "threshold": 4,
   "toc_cell": false,
   "toc_section_display": "block",
   "toc_window_display": false
  }
 },
 "nbformat": 4,
 "nbformat_minor": 1
}
